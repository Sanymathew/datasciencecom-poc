{
 "cells": [
  {
   "cell_type": "code",
   "execution_count": 6,
   "metadata": {},
   "outputs": [],
   "source": [
    "import pandas as pd\n",
    "import seaborn as sns\n",
    "import numpy as np\n",
    "from sklearn.model_selection import train_test_split\n",
    "from sklearn.ensemble import RandomForestClassifier\n",
    "from sklearn.metrics import confusion_matrix,roc_curve"
   ]
  },
  {
   "cell_type": "code",
   "execution_count": 3,
   "metadata": {},
   "outputs": [],
   "source": [
    "from matplotlib import pyplot as plt\n",
    "%matplotlib inline"
   ]
  },
  {
   "cell_type": "code",
   "execution_count": 57,
   "metadata": {},
   "outputs": [],
   "source": [
    "churnData = pd.read_csv('http://www.dataminingconsultant.com/data/churn.txt')"
   ]
  },
  {
   "cell_type": "code",
   "execution_count": 58,
   "metadata": {},
   "outputs": [],
   "source": [
    "churnData['Churn'] = churnData['Churn?'].map(lambda x: 1 if x=='True.' else 0)"
   ]
  },
  {
   "cell_type": "code",
   "execution_count": 59,
   "metadata": {},
   "outputs": [],
   "source": [
    "# remove columns that we won't use \n",
    "churnData1 = churnData.drop(['Area Code','Phone','State','Churn?'],axis=1)"
   ]
  },
  {
   "cell_type": "code",
   "execution_count": 60,
   "metadata": {},
   "outputs": [],
   "source": [
    "# find out which columns are object type and convert them to dummy vars\n",
    "list_ = list(churnData1.select_dtypes(include=['object']).columns)\n",
    "churnData2 = pd.get_dummies(churnData1, prefix=list_)"
   ]
  },
  {
   "cell_type": "code",
   "execution_count": 61,
   "metadata": {},
   "outputs": [
    {
     "data": {
      "text/html": [
       "<div>\n",
       "<style>\n",
       "    .dataframe thead tr:only-child th {\n",
       "        text-align: right;\n",
       "    }\n",
       "\n",
       "    .dataframe thead th {\n",
       "        text-align: left;\n",
       "    }\n",
       "\n",
       "    .dataframe tbody tr th {\n",
       "        vertical-align: top;\n",
       "    }\n",
       "</style>\n",
       "<table border=\"1\" class=\"dataframe\">\n",
       "  <thead>\n",
       "    <tr style=\"text-align: right;\">\n",
       "      <th></th>\n",
       "      <th>Account Length</th>\n",
       "      <th>VMail Message</th>\n",
       "      <th>Day Mins</th>\n",
       "      <th>Day Calls</th>\n",
       "      <th>Day Charge</th>\n",
       "      <th>Eve Mins</th>\n",
       "      <th>Eve Calls</th>\n",
       "      <th>Eve Charge</th>\n",
       "      <th>Night Mins</th>\n",
       "      <th>Night Calls</th>\n",
       "      <th>Night Charge</th>\n",
       "      <th>Intl Mins</th>\n",
       "      <th>Intl Calls</th>\n",
       "      <th>Intl Charge</th>\n",
       "      <th>CustServ Calls</th>\n",
       "      <th>Churn</th>\n",
       "      <th>Int'l Plan_no</th>\n",
       "      <th>Int'l Plan_yes</th>\n",
       "      <th>VMail Plan_no</th>\n",
       "      <th>VMail Plan_yes</th>\n",
       "    </tr>\n",
       "  </thead>\n",
       "  <tbody>\n",
       "    <tr>\n",
       "      <th>0</th>\n",
       "      <td>128</td>\n",
       "      <td>25</td>\n",
       "      <td>265.1</td>\n",
       "      <td>110</td>\n",
       "      <td>45.07</td>\n",
       "      <td>197.4</td>\n",
       "      <td>99</td>\n",
       "      <td>16.78</td>\n",
       "      <td>244.7</td>\n",
       "      <td>91</td>\n",
       "      <td>11.01</td>\n",
       "      <td>10.0</td>\n",
       "      <td>3</td>\n",
       "      <td>2.70</td>\n",
       "      <td>1</td>\n",
       "      <td>0</td>\n",
       "      <td>1</td>\n",
       "      <td>0</td>\n",
       "      <td>0</td>\n",
       "      <td>1</td>\n",
       "    </tr>\n",
       "    <tr>\n",
       "      <th>1</th>\n",
       "      <td>107</td>\n",
       "      <td>26</td>\n",
       "      <td>161.6</td>\n",
       "      <td>123</td>\n",
       "      <td>27.47</td>\n",
       "      <td>195.5</td>\n",
       "      <td>103</td>\n",
       "      <td>16.62</td>\n",
       "      <td>254.4</td>\n",
       "      <td>103</td>\n",
       "      <td>11.45</td>\n",
       "      <td>13.7</td>\n",
       "      <td>3</td>\n",
       "      <td>3.70</td>\n",
       "      <td>1</td>\n",
       "      <td>0</td>\n",
       "      <td>1</td>\n",
       "      <td>0</td>\n",
       "      <td>0</td>\n",
       "      <td>1</td>\n",
       "    </tr>\n",
       "    <tr>\n",
       "      <th>2</th>\n",
       "      <td>137</td>\n",
       "      <td>0</td>\n",
       "      <td>243.4</td>\n",
       "      <td>114</td>\n",
       "      <td>41.38</td>\n",
       "      <td>121.2</td>\n",
       "      <td>110</td>\n",
       "      <td>10.30</td>\n",
       "      <td>162.6</td>\n",
       "      <td>104</td>\n",
       "      <td>7.32</td>\n",
       "      <td>12.2</td>\n",
       "      <td>5</td>\n",
       "      <td>3.29</td>\n",
       "      <td>0</td>\n",
       "      <td>0</td>\n",
       "      <td>1</td>\n",
       "      <td>0</td>\n",
       "      <td>1</td>\n",
       "      <td>0</td>\n",
       "    </tr>\n",
       "    <tr>\n",
       "      <th>3</th>\n",
       "      <td>84</td>\n",
       "      <td>0</td>\n",
       "      <td>299.4</td>\n",
       "      <td>71</td>\n",
       "      <td>50.90</td>\n",
       "      <td>61.9</td>\n",
       "      <td>88</td>\n",
       "      <td>5.26</td>\n",
       "      <td>196.9</td>\n",
       "      <td>89</td>\n",
       "      <td>8.86</td>\n",
       "      <td>6.6</td>\n",
       "      <td>7</td>\n",
       "      <td>1.78</td>\n",
       "      <td>2</td>\n",
       "      <td>0</td>\n",
       "      <td>0</td>\n",
       "      <td>1</td>\n",
       "      <td>1</td>\n",
       "      <td>0</td>\n",
       "    </tr>\n",
       "  </tbody>\n",
       "</table>\n",
       "</div>"
      ],
      "text/plain": [
       "   Account Length  VMail Message  Day Mins  Day Calls  Day Charge  Eve Mins  \\\n",
       "0             128             25     265.1        110       45.07     197.4   \n",
       "1             107             26     161.6        123       27.47     195.5   \n",
       "2             137              0     243.4        114       41.38     121.2   \n",
       "3              84              0     299.4         71       50.90      61.9   \n",
       "\n",
       "   Eve Calls  Eve Charge  Night Mins  Night Calls  Night Charge  Intl Mins  \\\n",
       "0         99       16.78       244.7           91         11.01       10.0   \n",
       "1        103       16.62       254.4          103         11.45       13.7   \n",
       "2        110       10.30       162.6          104          7.32       12.2   \n",
       "3         88        5.26       196.9           89          8.86        6.6   \n",
       "\n",
       "   Intl Calls  Intl Charge  CustServ Calls  Churn  Int'l Plan_no  \\\n",
       "0           3         2.70               1      0              1   \n",
       "1           3         3.70               1      0              1   \n",
       "2           5         3.29               0      0              1   \n",
       "3           7         1.78               2      0              0   \n",
       "\n",
       "   Int'l Plan_yes  VMail Plan_no  VMail Plan_yes  \n",
       "0               0              0               1  \n",
       "1               0              0               1  \n",
       "2               0              1               0  \n",
       "3               1              1               0  "
      ]
     },
     "execution_count": 61,
     "metadata": {},
     "output_type": "execute_result"
    }
   ],
   "source": [
    "churnData2.head(4)"
   ]
  },
  {
   "cell_type": "code",
   "execution_count": 62,
   "metadata": {},
   "outputs": [],
   "source": [
    "# merge with the other columns\n",
    "list_nonObj = list(churnData.select_dtypes(exclude=['object']).columns)\n",
    "churnData3 = churnData[list_nonObj]"
   ]
  },
  {
   "cell_type": "code",
   "execution_count": 63,
   "metadata": {},
   "outputs": [],
   "source": [
    "inputData = pd.concat([churnData2,churnData3], axis = 1)"
   ]
  },
  {
   "cell_type": "code",
   "execution_count": 64,
   "metadata": {},
   "outputs": [
    {
     "data": {
      "text/html": [
       "<div>\n",
       "<style>\n",
       "    .dataframe thead tr:only-child th {\n",
       "        text-align: right;\n",
       "    }\n",
       "\n",
       "    .dataframe thead th {\n",
       "        text-align: left;\n",
       "    }\n",
       "\n",
       "    .dataframe tbody tr th {\n",
       "        vertical-align: top;\n",
       "    }\n",
       "</style>\n",
       "<table border=\"1\" class=\"dataframe\">\n",
       "  <thead>\n",
       "    <tr style=\"text-align: right;\">\n",
       "      <th></th>\n",
       "      <th>Account Length</th>\n",
       "      <th>VMail Message</th>\n",
       "      <th>Day Mins</th>\n",
       "      <th>Day Calls</th>\n",
       "      <th>Day Charge</th>\n",
       "      <th>Eve Mins</th>\n",
       "      <th>Eve Calls</th>\n",
       "      <th>Eve Charge</th>\n",
       "      <th>Night Mins</th>\n",
       "      <th>Night Calls</th>\n",
       "      <th>...</th>\n",
       "      <th>Eve Calls</th>\n",
       "      <th>Eve Charge</th>\n",
       "      <th>Night Mins</th>\n",
       "      <th>Night Calls</th>\n",
       "      <th>Night Charge</th>\n",
       "      <th>Intl Mins</th>\n",
       "      <th>Intl Calls</th>\n",
       "      <th>Intl Charge</th>\n",
       "      <th>CustServ Calls</th>\n",
       "      <th>Churn</th>\n",
       "    </tr>\n",
       "  </thead>\n",
       "  <tbody>\n",
       "    <tr>\n",
       "      <th>0</th>\n",
       "      <td>128</td>\n",
       "      <td>25</td>\n",
       "      <td>265.1</td>\n",
       "      <td>110</td>\n",
       "      <td>45.07</td>\n",
       "      <td>197.4</td>\n",
       "      <td>99</td>\n",
       "      <td>16.78</td>\n",
       "      <td>244.7</td>\n",
       "      <td>91</td>\n",
       "      <td>...</td>\n",
       "      <td>99</td>\n",
       "      <td>16.78</td>\n",
       "      <td>244.7</td>\n",
       "      <td>91</td>\n",
       "      <td>11.01</td>\n",
       "      <td>10.0</td>\n",
       "      <td>3</td>\n",
       "      <td>2.70</td>\n",
       "      <td>1</td>\n",
       "      <td>0</td>\n",
       "    </tr>\n",
       "    <tr>\n",
       "      <th>1</th>\n",
       "      <td>107</td>\n",
       "      <td>26</td>\n",
       "      <td>161.6</td>\n",
       "      <td>123</td>\n",
       "      <td>27.47</td>\n",
       "      <td>195.5</td>\n",
       "      <td>103</td>\n",
       "      <td>16.62</td>\n",
       "      <td>254.4</td>\n",
       "      <td>103</td>\n",
       "      <td>...</td>\n",
       "      <td>103</td>\n",
       "      <td>16.62</td>\n",
       "      <td>254.4</td>\n",
       "      <td>103</td>\n",
       "      <td>11.45</td>\n",
       "      <td>13.7</td>\n",
       "      <td>3</td>\n",
       "      <td>3.70</td>\n",
       "      <td>1</td>\n",
       "      <td>0</td>\n",
       "    </tr>\n",
       "    <tr>\n",
       "      <th>2</th>\n",
       "      <td>137</td>\n",
       "      <td>0</td>\n",
       "      <td>243.4</td>\n",
       "      <td>114</td>\n",
       "      <td>41.38</td>\n",
       "      <td>121.2</td>\n",
       "      <td>110</td>\n",
       "      <td>10.30</td>\n",
       "      <td>162.6</td>\n",
       "      <td>104</td>\n",
       "      <td>...</td>\n",
       "      <td>110</td>\n",
       "      <td>10.30</td>\n",
       "      <td>162.6</td>\n",
       "      <td>104</td>\n",
       "      <td>7.32</td>\n",
       "      <td>12.2</td>\n",
       "      <td>5</td>\n",
       "      <td>3.29</td>\n",
       "      <td>0</td>\n",
       "      <td>0</td>\n",
       "    </tr>\n",
       "    <tr>\n",
       "      <th>3</th>\n",
       "      <td>84</td>\n",
       "      <td>0</td>\n",
       "      <td>299.4</td>\n",
       "      <td>71</td>\n",
       "      <td>50.90</td>\n",
       "      <td>61.9</td>\n",
       "      <td>88</td>\n",
       "      <td>5.26</td>\n",
       "      <td>196.9</td>\n",
       "      <td>89</td>\n",
       "      <td>...</td>\n",
       "      <td>88</td>\n",
       "      <td>5.26</td>\n",
       "      <td>196.9</td>\n",
       "      <td>89</td>\n",
       "      <td>8.86</td>\n",
       "      <td>6.6</td>\n",
       "      <td>7</td>\n",
       "      <td>1.78</td>\n",
       "      <td>2</td>\n",
       "      <td>0</td>\n",
       "    </tr>\n",
       "    <tr>\n",
       "      <th>4</th>\n",
       "      <td>75</td>\n",
       "      <td>0</td>\n",
       "      <td>166.7</td>\n",
       "      <td>113</td>\n",
       "      <td>28.34</td>\n",
       "      <td>148.3</td>\n",
       "      <td>122</td>\n",
       "      <td>12.61</td>\n",
       "      <td>186.9</td>\n",
       "      <td>121</td>\n",
       "      <td>...</td>\n",
       "      <td>122</td>\n",
       "      <td>12.61</td>\n",
       "      <td>186.9</td>\n",
       "      <td>121</td>\n",
       "      <td>8.41</td>\n",
       "      <td>10.1</td>\n",
       "      <td>3</td>\n",
       "      <td>2.73</td>\n",
       "      <td>3</td>\n",
       "      <td>0</td>\n",
       "    </tr>\n",
       "  </tbody>\n",
       "</table>\n",
       "<p>5 rows × 37 columns</p>\n",
       "</div>"
      ],
      "text/plain": [
       "   Account Length  VMail Message  Day Mins  Day Calls  Day Charge  Eve Mins  \\\n",
       "0             128             25     265.1        110       45.07     197.4   \n",
       "1             107             26     161.6        123       27.47     195.5   \n",
       "2             137              0     243.4        114       41.38     121.2   \n",
       "3              84              0     299.4         71       50.90      61.9   \n",
       "4              75              0     166.7        113       28.34     148.3   \n",
       "\n",
       "   Eve Calls  Eve Charge  Night Mins  Night Calls  ...    Eve Calls  \\\n",
       "0         99       16.78       244.7           91  ...           99   \n",
       "1        103       16.62       254.4          103  ...          103   \n",
       "2        110       10.30       162.6          104  ...          110   \n",
       "3         88        5.26       196.9           89  ...           88   \n",
       "4        122       12.61       186.9          121  ...          122   \n",
       "\n",
       "   Eve Charge  Night Mins  Night Calls  Night Charge  Intl Mins  Intl Calls  \\\n",
       "0       16.78       244.7           91         11.01       10.0           3   \n",
       "1       16.62       254.4          103         11.45       13.7           3   \n",
       "2       10.30       162.6          104          7.32       12.2           5   \n",
       "3        5.26       196.9           89          8.86        6.6           7   \n",
       "4       12.61       186.9          121          8.41       10.1           3   \n",
       "\n",
       "   Intl Charge  CustServ Calls  Churn  \n",
       "0         2.70               1      0  \n",
       "1         3.70               1      0  \n",
       "2         3.29               0      0  \n",
       "3         1.78               2      0  \n",
       "4         2.73               3      0  \n",
       "\n",
       "[5 rows x 37 columns]"
      ]
     },
     "execution_count": 64,
     "metadata": {},
     "output_type": "execute_result"
    }
   ],
   "source": [
    "inputData.head()"
   ]
  },
  {
   "cell_type": "code",
   "execution_count": 65,
   "metadata": {},
   "outputs": [],
   "source": [
    "# split the input data set into train and test \n",
    "churnData_train, churnData_test = train_test_split(inputData, test_size =0.3)"
   ]
  },
  {
   "cell_type": "code",
   "execution_count": 66,
   "metadata": {},
   "outputs": [],
   "source": [
    "features = inputData.drop(['Churn'], axis=1).columns"
   ]
  },
  {
   "cell_type": "code",
   "execution_count": 67,
   "metadata": {},
   "outputs": [
    {
     "data": {
      "text/plain": [
       "RandomForestClassifier(bootstrap=True, class_weight=None, criterion='gini',\n",
       "            max_depth=None, max_features='auto', max_leaf_nodes=None,\n",
       "            min_impurity_decrease=0.0, min_impurity_split=None,\n",
       "            min_samples_leaf=1, min_samples_split=2,\n",
       "            min_weight_fraction_leaf=0.0, n_estimators=40, n_jobs=1,\n",
       "            oob_score=False, random_state=None, verbose=0,\n",
       "            warm_start=False)"
      ]
     },
     "execution_count": 67,
     "metadata": {},
     "output_type": "execute_result"
    }
   ],
   "source": [
    "rcClassifier = RandomForestClassifier(n_estimators=40)\n",
    "rcClassifier.fit(churnData_train[features], churnData_train['Churn'])"
   ]
  },
  {
   "cell_type": "code",
   "execution_count": 69,
   "metadata": {},
   "outputs": [
    {
     "data": {
      "text/plain": [
       "array([[ 1.,  1.],\n",
       "       [ 0.,  0.],\n",
       "       [ 0.,  0.],\n",
       "       ..., \n",
       "       [ 0.,  0.],\n",
       "       [ 0.,  0.],\n",
       "       [ 0.,  0.]])"
      ]
     },
     "metadata": {},
     "output_type": "display_data"
    }
   ],
   "source": [
    "# Make Predictions\n",
    "predictions = rcClassifier.predict(churnData_test[features])\n",
    "probabilities = rcClassifier.predict_proba(churnData_test[features])\n",
    "display(predictions)"
   ]
  },
  {
   "cell_type": "code",
   "execution_count": 70,
   "metadata": {},
   "outputs": [
    {
     "name": "stdout",
     "output_type": "stream",
     "text": [
      "Accuracy :  0.958\n"
     ]
    }
   ],
   "source": [
    "score = rcClassifier.score(churnData_test[features],churnData_test['Churn'])\n",
    "print \"Accuracy : \", score"
   ]
  },
  {
   "cell_type": "code",
   "execution_count": 76,
   "metadata": {},
   "outputs": [],
   "source": [
    "featImport = zip(features, rcClassifier.feature_importances_)"
   ]
  },
  {
   "cell_type": "code",
   "execution_count": 81,
   "metadata": {},
   "outputs": [],
   "source": [
    "feature_sorted = sorted(featImport, key=lambda x: x[1], reverse=True)"
   ]
  },
  {
   "cell_type": "code",
   "execution_count": 82,
   "metadata": {},
   "outputs": [
    {
     "name": "stdout",
     "output_type": "stream",
     "text": [
      "[('Night Calls', 0.049067698625923861), ('Intl Mins', 0.041630420853698183), ('Day Charge', 0.040237423402506342), ('Night Charge', 0.0395028813321937), ('Night Calls', 0.034099509088253786), ('Eve Mins', 0.031955059970856306), ('Night Mins', 0.029584587284064746), (\"Int'l Plan_no\", 0.024332283953951855), ('Night Mins', 0.021363757164939417), ('Intl Mins', 0.02107878773288805), ('Day Charge', 0.017982460218914368), ('Intl Charge', 0.015981229121046017), ('Eve Mins', 0.015835557940729033), ('Night Charge', 0.015308431785946795), ('Day Mins', 0.014372365801680911), ('Day Calls', 0.013879004522473487), ('CustServ Calls', 0.012534780624976155), ('Day Calls', 0.011747201134626741), ('Eve Calls', 0.011691039436195641), ('Day Mins', 0.01065633208296991), ('Eve Charge', 0.01024835338347015), ('Area Code', 0.0100411278064064), ('Intl Calls', 0.009410029587741401), ('CustServ Calls', 0.0092806856636186066), ('Eve Charge', 0.0085737466022840596), ('VMail Plan_no', 0.0083341548121900321), ('VMail Message', 0.0082140588114843986), (\"Int'l Plan_yes\", 0.0076942051892929702), ('Intl Charge', 0.0071732626378059423), ('Account Length', 0.0071215969248698803), ('VMail Message', 0.0067589232824558972), ('Eve Calls', 0.0065328678617152091), ('VMail Plan_yes', 0.0064992967159426002), ('Intl Calls', 0.0061646536840255185), ('Account Length', 0.0047053564871674062)]\n"
     ]
    }
   ],
   "source": [
    "print feature_sorted"
   ]
  },
  {
   "cell_type": "code",
   "execution_count": 121,
   "metadata": {},
   "outputs": [],
   "source": [
    "# function that takes a input dataset without the churn column and returns predictions, probabilities\n",
    "def predictCustChurn(x):\n",
    "    x = pd.read_json(x,orient='split')\n",
    "    print x\n",
    "    pred = rcClassifier.predict(x)\n",
    "    probs = rcClassifier.predict_proba(x)\n",
    "    return {'pred':pred,'probs':probs}\n",
    "    \n",
    "    "
   ]
  },
  {
   "cell_type": "code",
   "execution_count": 122,
   "metadata": {},
   "outputs": [
    {
     "name": "stdout",
     "output_type": "stream",
     "text": [
      "      Account Length  Account Length  VMail Message  VMail Message  Day Mins  \\\n",
      "2376              42              42              0              0     303.9   \n",
      "829              120             120              0              0     198.8   \n",
      "1166              72              72              0              0     118.2   \n",
      "3118             131             131             33             33     177.1   \n",
      "225               65              65              0              0     213.4   \n",
      "1478             118             118              0              0     253.2   \n",
      "1697             132             132              0              0     169.9   \n",
      "3182             109             109              0              0     180.0   \n",
      "620              163             163              0              0     191.3   \n",
      "20               147             147              0              0     155.1   \n",
      "\n",
      "      Day Mins  Day Calls  Day Calls  Day Charge  Day Charge       ...        \\\n",
      "2376     303.9        106        106       51.66       51.66       ...         \n",
      "829      198.8         56         56       33.80       33.80       ...         \n",
      "1166     118.2        106        106       20.09       20.09       ...         \n",
      "3118     177.1        100        100       30.11       30.11       ...         \n",
      "225      213.4        111        111       36.28       36.28       ...         \n",
      "1478     253.2        122        122       43.04       43.04       ...         \n",
      "1697     169.9        107        107       28.88       28.88       ...         \n",
      "3182     180.0        100        100       30.60       30.60       ...         \n",
      "620      191.3         89         89       32.52       32.52       ...         \n",
      "20       155.1        117        117       26.37       26.37       ...         \n",
      "\n",
      "      Night Charge  Night Charge  Intl Mins  Intl Mins  Intl Calls  \\\n",
      "2376          6.62          6.62        5.8        5.8           3   \n",
      "829           5.39          5.39        9.9        9.9           3   \n",
      "1166          9.64          9.64       12.2       12.2           3   \n",
      "3118         11.40         11.40        5.2        5.2           5   \n",
      "225          11.25         11.25        2.7        2.7           4   \n",
      "1478          8.79          8.79        9.7        9.7           7   \n",
      "1697          9.27          9.27       11.5       11.5           2   \n",
      "3182          6.27          6.27        7.8        7.8           8   \n",
      "620          12.08         12.08       12.8       12.8           4   \n",
      "20            9.40          9.40       10.6       10.6           4   \n",
      "\n",
      "      Intl Calls  Intl Charge  Intl Charge  CustServ Calls  CustServ Calls  \n",
      "2376           3         1.57         1.57               1               1  \n",
      "829            3         2.67         2.67               2               2  \n",
      "1166           3         3.29         3.29               3               3  \n",
      "3118           5         1.40         1.40               1               1  \n",
      "225            4         0.73         0.73               1               1  \n",
      "1478           7         2.62         2.62               2               2  \n",
      "1697           2         3.11         3.11               1               1  \n",
      "3182           8         2.11         2.11               3               3  \n",
      "620            4         3.46         3.46               1               1  \n",
      "20             4         2.86         2.86               0               0  \n",
      "\n",
      "[10 rows x 65 columns]\n"
     ]
    }
   ],
   "source": [
    "retVal = predictCustChurn(churnData_test[features][:10].to_json(orient='split'))"
   ]
  },
  {
   "cell_type": "code",
   "execution_count": 119,
   "metadata": {},
   "outputs": [
    {
     "data": {
      "text/plain": [
       "'{\"columns\":[\"Account Length\",\"Account Length\",\"VMail Message\",\"VMail Message\",\"Day Mins\",\"Day Mins\",\"Day Calls\",\"Day Calls\",\"Day Charge\",\"Day Charge\",\"Eve Mins\",\"Eve Mins\",\"Eve Calls\",\"Eve Calls\",\"Eve Charge\",\"Eve Charge\",\"Night Mins\",\"Night Mins\",\"Night Calls\",\"Night Calls\",\"Night Charge\",\"Night Charge\",\"Intl Mins\",\"Intl Mins\",\"Intl Calls\",\"Intl Calls\",\"Intl Charge\",\"Intl Charge\",\"CustServ Calls\",\"CustServ Calls\",\"Int\\'l Plan_no\",\"Int\\'l Plan_yes\",\"VMail Plan_no\",\"VMail Plan_yes\",\"Account Length\",\"Account Length\",\"Area Code\",\"VMail Message\",\"VMail Message\",\"Day Mins\",\"Day Mins\",\"Day Calls\",\"Day Calls\",\"Day Charge\",\"Day Charge\",\"Eve Mins\",\"Eve Mins\",\"Eve Calls\",\"Eve Calls\",\"Eve Charge\",\"Eve Charge\",\"Night Mins\",\"Night Mins\",\"Night Calls\",\"Night Calls\",\"Night Charge\",\"Night Charge\",\"Intl Mins\",\"Intl Mins\",\"Intl Calls\",\"Intl Calls\",\"Intl Charge\",\"Intl Charge\",\"CustServ Calls\",\"CustServ Calls\"],\"index\":[2376,829,1166,3118,225,1478,1697,3182,620,20],\"data\":[[42,42,0,0,303.9,303.9,106,106,51.66,51.66,232.2,232.2,54,54,19.74,19.74,147.1,147.1,76,76,6.62,6.62,5.8,5.8,3,3,1.57,1.57,1,1,1,0,1,0,42,42,415,0,0,303.9,303.9,106,106,51.66,51.66,232.2,232.2,54,54,19.74,19.74,147.1,147.1,76,76,6.62,6.62,5.8,5.8,3,3,1.57,1.57,1,1],[120,120,0,0,198.8,198.8,56,56,33.8,33.8,230.1,230.1,73,73,19.56,19.56,119.8,119.8,81,81,5.39,5.39,9.9,9.9,3,3,2.67,2.67,2,2,1,0,1,0,120,120,510,0,0,198.8,198.8,56,56,33.8,33.8,230.1,230.1,73,73,19.56,19.56,119.8,119.8,81,81,5.39,5.39,9.9,9.9,3,3,2.67,2.67,2,2],[72,72,0,0,118.2,118.2,106,106,20.09,20.09,167.2,167.2,136,136,14.21,14.21,214.2,214.2,106,106,9.64,9.64,12.2,12.2,3,3,3.29,3.29,3,3,1,0,1,0,72,72,415,0,0,118.2,118.2,106,106,20.09,20.09,167.2,167.2,136,136,14.21,14.21,214.2,214.2,106,106,9.64,9.64,12.2,12.2,3,3,3.29,3.29,3,3],[131,131,33,33,177.1,177.1,100,100,30.11,30.11,194.0,194.0,85,85,16.49,16.49,253.4,253.4,124,124,11.4,11.4,5.2,5.2,5,5,1.4,1.4,1,1,1,0,0,1,131,131,408,33,33,177.1,177.1,100,100,30.11,30.11,194.0,194.0,85,85,16.49,16.49,253.4,253.4,124,124,11.4,11.4,5.2,5.2,5,5,1.4,1.4,1,1],[65,65,0,0,213.4,213.4,111,111,36.28,36.28,234.5,234.5,94,94,19.93,19.93,250.1,250.1,123,123,11.25,11.25,2.7,2.7,4,4,0.73,0.73,1,1,1,0,1,0,65,65,415,0,0,213.4,213.4,111,111,36.28,36.28,234.5,234.5,94,94,19.93,19.93,250.1,250.1,123,123,11.25,11.25,2.7,2.7,4,4,0.73,0.73,1,1],[118,118,0,0,253.2,253.2,122,122,43.04,43.04,201.0,201.0,78,78,17.09,17.09,195.3,195.3,108,108,8.79,8.79,9.7,9.7,7,7,2.62,2.62,2,2,1,0,1,0,118,118,415,0,0,253.2,253.2,122,122,43.04,43.04,201.0,201.0,78,78,17.09,17.09,195.3,195.3,108,108,8.79,8.79,9.7,9.7,7,7,2.62,2.62,2,2],[132,132,0,0,169.9,169.9,107,107,28.88,28.88,209.4,209.4,121,121,17.8,17.8,206.1,206.1,79,79,9.27,9.27,11.5,11.5,2,2,3.11,3.11,1,1,1,0,1,0,132,132,408,0,0,169.9,169.9,107,107,28.88,28.88,209.4,209.4,121,121,17.8,17.8,206.1,206.1,79,79,9.27,9.27,11.5,11.5,2,2,3.11,3.11,1,1],[109,109,0,0,180.0,180.0,100,100,30.6,30.6,229.0,229.0,103,103,19.47,19.47,139.4,139.4,105,105,6.27,6.27,7.8,7.8,8,8,2.11,2.11,3,3,1,0,1,0,109,109,415,0,0,180.0,180.0,100,100,30.6,30.6,229.0,229.0,103,103,19.47,19.47,139.4,139.4,105,105,6.27,6.27,7.8,7.8,8,8,2.11,2.11,3,3],[163,163,0,0,191.3,191.3,89,89,32.52,32.52,193.9,193.9,87,87,16.48,16.48,268.4,268.4,121,121,12.08,12.08,12.8,12.8,4,4,3.46,3.46,1,1,1,0,1,0,163,163,415,0,0,191.3,191.3,89,89,32.52,32.52,193.9,193.9,87,87,16.48,16.48,268.4,268.4,121,121,12.08,12.08,12.8,12.8,4,4,3.46,3.46,1,1],[147,147,0,0,155.1,155.1,117,117,26.37,26.37,239.7,239.7,93,93,20.37,20.37,208.8,208.8,133,133,9.4,9.4,10.6,10.6,4,4,2.86,2.86,0,0,1,0,1,0,147,147,415,0,0,155.1,155.1,117,117,26.37,26.37,239.7,239.7,93,93,20.37,20.37,208.8,208.8,133,133,9.4,9.4,10.6,10.6,4,4,2.86,2.86,0,0]]}'"
      ]
     },
     "execution_count": 119,
     "metadata": {},
     "output_type": "execute_result"
    }
   ],
   "source": []
  },
  {
   "cell_type": "code",
   "execution_count": 98,
   "metadata": {},
   "outputs": [
    {
     "ename": "AttributeError",
     "evalue": "'list' object has no attribute 'tolist'",
     "output_type": "error",
     "traceback": [
      "\u001b[0;31m\u001b[0m",
      "\u001b[0;31mAttributeError\u001b[0mTraceback (most recent call last)",
      "\u001b[0;32m<ipython-input-98-390dd4326ff3>\u001b[0m in \u001b[0;36m<module>\u001b[0;34m()\u001b[0m\n\u001b[0;32m----> 1\u001b[0;31m \u001b[0mzip\u001b[0m\u001b[0;34m(\u001b[0m\u001b[0minputData\u001b[0m\u001b[0;34m[\u001b[0m\u001b[0;34m'Churn'\u001b[0m\u001b[0;34m]\u001b[0m\u001b[0;34m,\u001b[0m\u001b[0minputData\u001b[0m\u001b[0;34m[\u001b[0m\u001b[0;34m'Account Length'\u001b[0m\u001b[0;34m]\u001b[0m\u001b[0;34m)\u001b[0m\u001b[0;34m.\u001b[0m\u001b[0mtolist\u001b[0m\u001b[0;34m(\u001b[0m\u001b[0;34m)\u001b[0m\u001b[0;34m\u001b[0m\u001b[0m\n\u001b[0m",
      "\u001b[0;31mAttributeError\u001b[0m: 'list' object has no attribute 'tolist'"
     ]
    }
   ],
   "source": []
  },
  {
   "cell_type": "code",
   "execution_count": null,
   "metadata": {},
   "outputs": [],
   "source": []
  }
 ],
 "metadata": {
  "kernelspec": {
   "display_name": "Python 2",
   "language": "python",
   "name": "python2"
  },
  "language_info": {
   "codemirror_mode": {
    "name": "ipython",
    "version": 2
   },
   "file_extension": ".py",
   "mimetype": "text/x-python",
   "name": "python",
   "nbconvert_exporter": "python",
   "pygments_lexer": "ipython2",
   "version": "2.7.9"
  }
 },
 "nbformat": 4,
 "nbformat_minor": 2
}
